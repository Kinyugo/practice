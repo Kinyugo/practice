{
 "cells": [
  {
   "cell_type": "markdown",
   "metadata": {},
   "source": [
    "# Python Programming Exercises"
   ]
  },
  {
   "cell_type": "markdown",
   "metadata": {},
   "source": [
    "## Question 18\n",
    "Level 3\n",
    "\n",
    "Question:\n",
    "A website requires the users to input username and password to register. Write a program to check the validity of password input by users.\n",
    "Following are the criteria for checking the password:\n",
    "1. At least 1 letter between [a-z]\n",
    "2. At least 1 number between [0-9]\n",
    "1. At least 1 letter between [A-Z]\n",
    "3. At least 1 character from [$#@]\n",
    "4. Minimum length of transaction password: 6\n",
    "5. Maximum length of transaction password: 12\n",
    "Your program should accept a sequence of comma separated passwords and will check them according to the above criteria. Passwords that match the criteria are to be printed, each separated by a comma.\n",
    "Example\n",
    "If the following passwords are given as input to the program:\n",
    "ABd1234@1,a F1#,2w3E*,2We3345\n",
    "Then, the output of the program should be:\n",
    "ABd1234@1\n",
    "\n",
    "Hints:\n",
    "In case of input data being supplied to the question, it should be assumed to be a console input.\n"
   ]
  },
  {
   "cell_type": "code",
   "execution_count": 3,
   "metadata": {},
   "outputs": [
    {
     "name": "stdout",
     "output_type": "stream",
     "text": [
      "Invalid passwords: ['A3@ab2', 'aa']\n"
     ]
    }
   ],
   "source": [
    "import string\n",
    "from typing import Union\n",
    "\n",
    "\n",
    "def contains(items: Union[list, range], target_items: Union[list, range]) -> bool:\n",
    "    \"\"\"Checks if atleast one of the elements of a target sequence are present.\"\"\"\n",
    "    return bool(set(items) & set(target_items))\n",
    "\n",
    "\n",
    "def is_valid_length(password: str, min: int, max: int) -> bool:\n",
    "    \"\"\"Check if a password's length is within the specified range.\"\"\"\n",
    "    return len(password) >= min and len(password) <= max\n",
    "\n",
    "\n",
    "def is_valid_password(password: str) -> bool:\n",
    "    \"\"\"Checks whether a password is valid.\"\"\"\n",
    "    is_valid = (\n",
    "        contains(password, string.ascii_lowercase)  # contains lowercase [a-z]\n",
    "        and contains(password, string.ascii_uppercase)  # contains uppercase [A-Z]\n",
    "        and contains(password, [\"$\", \"#\", \"@\"])  # contains special characters\n",
    "        and is_valid_length(password, 6, 12)  # length between 6 and 12\n",
    "    )\n",
    "\n",
    "    return is_valid\n",
    "\n",
    "# Read the user input \n",
    "passwords = input(\"Enter passwords separated by a comma (pass1,pass2): \")\n",
    "# Split passwords based on comma\n",
    "passwords = passwords.split(\",\")\n",
    "# Remove leading and trailing whitespace \n",
    "passwords = list(map(str.strip, passwords))\n",
    "# Select the invalid passwords \n",
    "passwords = list(filter(lambda x: not is_valid_password(x), passwords))\n",
    "print(\"Invalid passwords:\", passwords)"
   ]
  },
  {
   "cell_type": "markdown",
   "metadata": {},
   "source": [
    "### Question 19\n",
    "Level 3\n",
    "\n",
    "Question:\n",
    "You are required to write a program to sort the (name, age, height) tuples by ascending order where name is string, age and height are numbers. The tuples are input by console. The sort criteria is:\n",
    "1: Sort based on name;\n",
    "2: Then sort based on age;\n",
    "3: Then sort by score.\n",
    "The priority is that name > age > score.\n",
    "If the following tuples are given as input to the program:\n",
    "Tom,19,80\n",
    "John,20,90\n",
    "Jony,17,91\n",
    "Jony,17,93\n",
    "Json,21,85\n",
    "Then, the output of the program should be:\n",
    "[('John', '20', '90'), ('Jony', '17', '91'), ('Jony', '17', '93'), ('Json', '21', '85'), ('Tom', '19', '80')]\n",
    "\n",
    "Hints:\n",
    "In case of input data being supplied to the question, it should be assumed to be a console input.\n",
    "We use itemgetter to enable multiple sort keys.\n"
   ]
  },
  {
   "cell_type": "code",
   "execution_count": 4,
   "metadata": {},
   "outputs": [
    {
     "name": "stdout",
     "output_type": "stream",
     "text": [
      "Sorted students: [('John', '20', '90'), ('Jony', '17', '91'), ('Jony', '21', '85'), ('Tom', '19', '80')]\n"
     ]
    }
   ],
   "source": [
    "def sort_fn(item: tuple[str, str, str]) -> tuple[str, int, int]:\n",
    "    \"\"\"Sort by name, age and then score.\"\"\"\n",
    "    return (item[0], int(item[1]), int(item[2]))\n",
    "\n",
    "# Read user input \n",
    "students = input(\"Enter students details separated by a space (John,20,90 James,21,76): \")\n",
    "# Split each details of the students by space\n",
    "students = students.split(\" \")\n",
    "# Remove leading and trailing whitespace\n",
    "students = map(str.strip, students)\n",
    "# Split now the individual data of the students by commas, trim whitespace and turn the \n",
    "# items into tuples\n",
    "students = map(lambda x: tuple(map(str.strip, str.split(x, \",\"))), students)\n",
    "# Sort items\n",
    "students = sorted(students, key=sort_fn)\n",
    "print(\"Sorted students:\", students)"
   ]
  },
  {
   "cell_type": "markdown",
   "metadata": {},
   "source": [
    "## Question 20\n",
    "Level 3\n",
    "\n",
    "Question: Define a class with a generator which can iterate the numbers, which are divisible by 7, between a given range 0 and n.\n",
    "\n",
    "Hints: Consider use yield"
   ]
  },
  {
   "cell_type": "code",
   "execution_count": 16,
   "metadata": {},
   "outputs": [
    {
     "name": "stdout",
     "output_type": "stream",
     "text": [
      "0, 7, 14, 21, 28, 35, 42, 49, 56, 63, 70, 77, 84, 91, 98, \n",
      "Finished Running!\n"
     ]
    }
   ],
   "source": [
    "class SevensMultiples:\n",
    "    def __init__(self, max_value: int) -> None:\n",
    "        self.max_value = max_value\n",
    "        self.value = 0 \n",
    "\n",
    "    def __next__(self) -> int:\n",
    "        # Stop iteration \n",
    "        if self.value > self.max_value:\n",
    "            raise StopIteration\n",
    "\n",
    "        # Hold the current value to prevent overwriting\n",
    "        current_value = self.value \n",
    "        # Update the value for the next iteration\n",
    "        self.value += 7\n",
    "\n",
    "        return current_value \n",
    "\n",
    "    def __iter__(self):\n",
    "        return self\n",
    "\n",
    "sevens_multiples = SevensMultiples(100)\n",
    "try:\n",
    "    while True:\n",
    "        print(next(sevens_multiples), end=\", \")\n",
    "except StopIteration:\n",
    "    print(\"\\nFinished Running!\")"
   ]
  },
  {
   "cell_type": "markdown",
   "metadata": {},
   "source": [
    "## Question 21\n",
    "Level 3\n",
    "\n",
    "Question\n",
    "A robot moves in a plane starting from the original point (0,0). The robot can move toward UP, DOWN, LEFT and RIGHT with a given steps. The trace of robot movement is shown as the following:\n",
    "UP 5\n",
    "DOWN 3\n",
    "LEFT 3\n",
    "RIGHT 2\n",
    "¡­\n",
    "The numbers after the direction are steps. Please write a program to compute the distance from current position after a sequence of movement and original point. If the distance is a float, then just print the nearest integer.\n",
    "Example:\n",
    "If the following tuples are given as input to the program:\n",
    "UP 5\n",
    "DOWN 3\n",
    "LEFT 3\n",
    "RIGHT 2\n",
    "Then, the output of the program should be:\n",
    "2\n",
    "\n",
    "Hints:\n",
    "In case of input data being supplied to the question, it should be assumed to be a console input."
   ]
  },
  {
   "cell_type": "code",
   "execution_count": 21,
   "metadata": {},
   "outputs": [
    {
     "name": "stdout",
     "output_type": "stream",
     "text": [
      "The robot's distance is: 8.06225774829855\n"
     ]
    }
   ],
   "source": [
    "import math\n",
    "import re \n",
    "\n",
    "def compute_current_position(movement_sequence: list[tuple[str, int]], starting_position: tuple[int, int]) -> tuple[int, int]:\n",
    "    \"\"\"Computes the co-ordinates of the current position of the robot.\"\"\"\n",
    "    x_coord, y_coord = starting_position\n",
    "    for instruction, steps in movement_sequence:\n",
    "        instruction = instruction.lower() # Normalize the instruction RIGHT==right...\n",
    "        if instruction in ['right', 'left']: \n",
    "            if instruction == 'right': \n",
    "                x_coord += steps \n",
    "            else: \n",
    "                x_coord -= steps\n",
    "        elif instruction in ['up', 'down']:\n",
    "            if instruction == 'up':\n",
    "                y_coord += steps \n",
    "            else: \n",
    "                y_coord -= steps \n",
    "    \n",
    "    return x_coord, y_coord\n",
    "\n",
    "STARTING_POSITION = (0, 0)\n",
    "\n",
    "movement_sequence = input(\"Enter the movement sequence (RIGHT 4 DOWN 5): \")\n",
    "# Split the movement sequence into individual instructions e.g: [\"RIGHT 4\", \"DOWN 5\"] \n",
    "movement_sequence = re.split(\"(\\w+\\s+\\d+)\", movement_sequence.strip())\n",
    "# Remove empty strings \n",
    "movement_sequence = filter(lambda x: x.strip(), movement_sequence)\n",
    "# Split instruction and steps ['RIGHT', '5']\n",
    "movement_sequence = list(map(str.split, movement_sequence))\n",
    "# Change steps into integers for easy calculation \n",
    "movement_sequence = list(map(lambda x: (x[0], int(x[1])), movement_sequence))\n",
    "# Compute the current position\n",
    "current_position = compute_current_position(movement_sequence, STARTING_POSITION)\n",
    "# Compute the euclidean distance\n",
    "distance = round(math.dist(current_position, STARTING_POSITION))\n",
    "print(\"The robot's distance is:\", distance)\n"
   ]
  },
  {
   "cell_type": "markdown",
   "metadata": {},
   "source": [
    "## Question 22\n",
    "Level 3\n",
    "\n",
    "Question:\n",
    "Write a program to compute the frequency of the words from the input. The output should output after sorting the key alphanumerically. \n",
    "Suppose the following input is supplied to the program:\n",
    "New to Python or choosing between Python 2 and Python 3? Read Python 2 or Python 3.\n",
    "Then, the output should be:\n",
    "2:2\n",
    "3.:1\n",
    "3?:1\n",
    "New:1\n",
    "Python:5\n",
    "Read:1\n",
    "and:1\n",
    "between:1\n",
    "choosing:1\n",
    "or:2\n",
    "to:1\n",
    "\n",
    "Hints\n",
    "In case of input data being supplied to the question, it should be assumed to be a console input."
   ]
  },
  {
   "cell_type": "code",
   "execution_count": 3,
   "metadata": {},
   "outputs": [
    {
     "name": "stdout",
     "output_type": "stream",
     "text": [
      "Word frequency: {'2': 2, '3.': 1, '3?': 1, 'New': 1, 'Python': 5, 'Read': 1, 'and': 1, 'between': 1, 'choosing': 1, 'or': 2, 'to': 1}\n"
     ]
    }
   ],
   "source": [
    "def count_word_freq(text: str) -> dict[str, int]:\n",
    "    # Split text into individual words and trim whitespace\n",
    "    words = list(map(str.strip, text.split()))\n",
    "    # Obtain a list of unique ordered words \n",
    "    unique_words = sorted(list(set(words)))\n",
    "    # Count the occurence of words\n",
    "    word_count = [words.count(word) for word in unique_words]\n",
    "    # Create a dictionary of word -> count \n",
    "    word_freq = dict(zip(unique_words, word_count))\n",
    "\n",
    "    return word_freq\n",
    "\n",
    "text = input(\"Enter the text (Hello World!): \")\n",
    "word_freq = count_word_freq(text)\n",
    "print(\"Word frequency:\", word_freq)"
   ]
  },
  {
   "cell_type": "markdown",
   "metadata": {},
   "source": [
    "## Question 30\n",
    "Define a function that can accept two strings as input and concatenate them and then print it in console.\n",
    "\n",
    "Hints:\n",
    "\n",
    "Use + to concatenate the strings"
   ]
  },
  {
   "cell_type": "code",
   "execution_count": 2,
   "metadata": {},
   "outputs": [
    {
     "name": "stdout",
     "output_type": "stream",
     "text": [
      "HelloWorld!\n"
     ]
    }
   ],
   "source": [
    "def concatenate(first_str: str, second_str: str) -> str: \n",
    "    concatenated_str = first_str + second_str\n",
    "    print(concatenated_str)\n",
    "\n",
    "\n",
    "concatenate(\"Hello\", \"World!\")"
   ]
  },
  {
   "cell_type": "markdown",
   "metadata": {},
   "source": [
    "## Question 33\n",
    "Define a function which can print a dictionary where the keys are numbers between 1 and 3 (both included) and the values are square of keys.\n",
    "\n",
    "Hints:\n",
    "\n",
    "Use dict[key]=value pattern to put entry into a dictionary.\n",
    "Use ** operator to get power of a number."
   ]
  },
  {
   "cell_type": "code",
   "execution_count": 3,
   "metadata": {},
   "outputs": [
    {
     "name": "stdout",
     "output_type": "stream",
     "text": [
      "{1: 1, 2: 4, 3: 9}\n"
     ]
    }
   ],
   "source": [
    "def make_dict() -> dict[int, int]:\n",
    "    numbers_dict = dict()\n",
    "    for i in range(1, 4):\n",
    "        numbers_dict[i] = i ** 2\n",
    "\n",
    "    print(numbers_dict)\n",
    "\n",
    "make_dict()"
   ]
  },
  {
   "cell_type": "markdown",
   "metadata": {},
   "source": [
    "## Question 34\n",
    "Define a function which can print a dictionary where the keys are numbers between 1 and 20 (both included) and the values are square of keys.\n",
    "\n",
    "Hints:\n",
    "\n",
    "Use dict[key]=value pattern to put entry into a dictionary.\n",
    "Use ** operator to get power of a number.\n",
    "Use range() for loops.\n"
   ]
  },
  {
   "cell_type": "code",
   "execution_count": 12,
   "metadata": {},
   "outputs": [
    {
     "name": "stdout",
     "output_type": "stream",
     "text": [
      "{1: 1, 2: 4, 3: 9, 4: 16, 5: 25, 6: 36, 7: 49, 8: 64, 9: 81, 10: 100, 11: 121, 12: 144, 13: 169, 14: 196, 15: 225, 16: 256, 17: 289, 18: 324, 19: 361, 20: 400}\n"
     ]
    }
   ],
   "source": [
    "def squares_dict() -> dict[int, int]:\n",
    "    numbers_dict = dict()\n",
    "    for i in range(1, 21):\n",
    "        numbers_dict[i] = i ** 2\n",
    "\n",
    "    print(numbers_dict)\n",
    "\n",
    "squares_dict()"
   ]
  },
  {
   "cell_type": "markdown",
   "metadata": {},
   "source": [
    "## Question 48\n",
    "Write a program which can filter() to make a list whose elements are even number between 1 and 20 (both included).\n",
    "\n",
    "Hints:\n",
    "\n",
    "Use filter() to filter elements of a list.\n",
    "Use lambda to define anonymous functions."
   ]
  },
  {
   "cell_type": "code",
   "execution_count": 9,
   "metadata": {},
   "outputs": [
    {
     "data": {
      "text/plain": [
       "[2, 4, 6, 8, 10, 12, 14, 16, 18, 20]"
      ]
     },
     "execution_count": 9,
     "metadata": {},
     "output_type": "execute_result"
    }
   ],
   "source": [
    "def filter_even(n: int) -> list[int]:\n",
    "    return list(filter(lambda x: x % 2 == 0, range(1, n+1)))\n",
    "\n",
    "filter_even(20)"
   ]
  },
  {
   "cell_type": "markdown",
   "metadata": {},
   "source": [
    "## Question 49\n",
    "Write a program which can map() to make a list whose elements are square of numbers between 1 and 20 (both included).\n",
    "\n",
    "Hints\n",
    "Use map() to generate a list.\n",
    "Use lambda to define anonymous functions.\n"
   ]
  },
  {
   "cell_type": "code",
   "execution_count": 14,
   "metadata": {},
   "outputs": [
    {
     "name": "stdout",
     "output_type": "stream",
     "text": [
      "[1, 4, 9, 16, 25, 36, 49, 64, 81, 100, 121, 144, 169, 196, 225, 256, 289, 324, 361, 400]\n"
     ]
    }
   ],
   "source": [
    "def squares_map(n: int) -> list[int]:\n",
    "    return list(map(lambda x: x**2, range(1, n+1)))\n",
    "\n",
    "print(squares_map(20))"
   ]
  }
 ],
 "metadata": {
  "interpreter": {
   "hash": "b18abddfe870f14c5e93df19c235678b74863db34e7b5fa9467b9c4493d92218"
  },
  "kernelspec": {
   "display_name": "Python 3.9.10 ('pytorch')",
   "language": "python",
   "name": "python3"
  },
  "language_info": {
   "codemirror_mode": {
    "name": "ipython",
    "version": 3
   },
   "file_extension": ".py",
   "mimetype": "text/x-python",
   "name": "python",
   "nbconvert_exporter": "python",
   "pygments_lexer": "ipython3",
   "version": "3.10.1"
  },
  "orig_nbformat": 4
 },
 "nbformat": 4,
 "nbformat_minor": 2
}
